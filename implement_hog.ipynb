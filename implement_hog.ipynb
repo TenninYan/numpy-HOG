{
 "cells": [
  {
   "cell_type": "markdown",
   "metadata": {},
   "source": [
    "# Implementation of HOG extractor"
   ]
  },
  {
   "cell_type": "markdown",
   "metadata": {},
   "source": [
    "- In this notebook, you will work on implementing HOG extractor. There are several **blanks** you need to fill in.\n",
    "- Extraction of HOG feature from an image proceeds as follows:\n",
    "    1. computing the gradient image in x and y\n",
    "    2. computing the magnitude and orientation from the gradients\n",
    "    3. computing gradient histograms\n",
    "    4. normalizing across blocks and flattening into a feature vector\n",
    "    5. putting them together"
   ]
  },
  {
   "cell_type": "code",
   "execution_count": 5,
   "metadata": {},
   "outputs": [],
   "source": [
    "import numpy as np\n",
    "import matplotlib.pyplot as plt\n",
    "from skimage import data, exposure\n",
    "from skimage.color import rgb2gray\n",
    "from scipy import pi\n",
    "from scipy.ndimage import uniform_filter"
   ]
  },
  {
   "cell_type": "markdown",
   "metadata": {},
   "source": [
    "## 1. Computing the gradient image in x and y"
   ]
  },
  {
   "cell_type": "markdown",
   "metadata": {},
   "source": [
    "- In this section, we will implement the function which computes the gradients from input image.\n",
    "- There are two types of the gradients on the two axis; x-axis and y-axis.\n",
    "    - $I_x$ is the gradient on x-axis, which is calculated as follows:\n",
    "    $$\n",
    "    I_x(x,y) = \\frac{I(x+1, y) - I(x-1,y)}{2}\n",
    "    $$\n",
    "    - $I_y$ is the gradient on y-axis, which is calculated as follows:\n",
    "    $$\n",
    "    I_y(x,y) = \\frac{I(x, y+1) - I(x,y-1)}{2}\n",
    "    $$\n",
    "    - Use $diff_x, diff_y$ to calculate above."
   ]
  },
  {
   "cell_type": "code",
   "execution_count": 6,
   "metadata": {},
   "outputs": [],
   "source": [
    "def compute_gradients(image):\n",
    "    \"\"\"\n",
    "    Compute the gradient of the image vertically and horizontally.\n",
    "    \n",
    "    Parameters\n",
    "    ----------\n",
    "    image : (X, Y) Input image array. \n",
    "    \n",
    "    Returns\n",
    "    -------\n",
    "    I_x: the gradient on x-axis.\n",
    "    I_y: the gradient on y-axis.\n",
    "    \"\"\"\n",
    "    \n",
    "    image = np.atleast_2d(image)\n",
    "    \n",
    "    if image.ndim > 2:\n",
    "        raise ValueError(\"Currently only supports grey-level images\")\\\n",
    "    \n",
    "    if image.dtype.kind == 'u':\n",
    "        # convert uint image to float\n",
    "        # to avoid problems with subtracting unsigned numbers in np.diff()\n",
    "        image = image.astype('float')\n",
    "        \n",
    "    # initialize the parameters.\n",
    "    I_x = np.zeros(image.shape)\n",
    "    I_y = np.zeros(image.shape)\n",
    "    \n",
    "    ########## START CODE HERE ##########\n",
    "    diff_x = np.diff(image, n=1, axis=1)\n",
    "    diff_y = np.diff(image, n=1, axis=0)\n",
    "    I_x[:, 1:-1] = (diff_x[:, :-1] + diff_x[:, 1:]) / 2 # TODO\n",
    "    I_y[1:-1, :] = (diff_y[:-1] + diff_y[1:]) / 2 # TODO\n",
    "    ########## END CODE HERE ##########\n",
    "    \n",
    "    return I_x, I_y"
   ]
  },
  {
   "cell_type": "code",
   "execution_count": 8,
   "metadata": {},
   "outputs": [],
   "source": [
    "# test 1\n",
    "image = np.arange(16).reshape(4, 4)\n",
    "I_x, I_y = compute_gradients(image)\n",
    "assert (I_x == np.array([[0, 1, 1, 0]]* 4)).all()\n",
    "assert (I_y == np.array([[0, 0, 0, 0], [4, 4, 4, 4], [4, 4, 4, 4], [0, 0, 0, 0]])).all()"
   ]
  },
  {
   "cell_type": "markdown",
   "metadata": {},
   "source": [
    "## 2. computing the magnitude and orientation from the gradients"
   ]
  },
  {
   "cell_type": "markdown",
   "metadata": {},
   "source": [
    "- Now we have the gradients $I_x, I_y$. Let's calculate magnitude $m$ and orientation $\\theta$ from the gradients.\n",
    "- Note that magnitude $m$ and orientation $\\theta$ are calculated as follows:\n",
    "$$\n",
    "m(x,y) = \\sqrt{{I_x(x,y)}^2 + {I_y(x,y)}^2}\\\\\n",
    "\\theta(x,y) = \\tan^{-1}\\frac{I_y(x,y)}{I_x(x,y)} \\times \\frac{180^\\circ}{\\pi}\\ \\ \\  (0^\\circ \\le \\theta < 180^\\circ)\n",
    "$$\n",
    "- $\\theta$ is expressed in **degrees**.\n",
    "- Keep in mind that $\\theta$ does not exceed $180^\\circ$."
   ]
  },
  {
   "cell_type": "code",
   "execution_count": 13,
   "metadata": {},
   "outputs": [],
   "source": [
    "def compute_magnitude_and_orientation(I_x, I_y):\n",
    "    \"\"\"\n",
    "    Compute the magnitude and orientation from the gradients I_x, I_y.\n",
    "    \n",
    "    Parameters\n",
    "    ----------\n",
    "    I_x: the gradient on x-axis.\n",
    "    I_y: the gradient on y-axis.\n",
    "    \n",
    "    Returns\n",
    "    -------\n",
    "    m: magnitude of the gradient.\n",
    "    orientation: orientation of the gradient.\n",
    "    \"\"\"\n",
    "    \n",
    "    magnitude = np.sqrt(I_x**2 + I_y**2) # TODO\n",
    "    orientation = np.arctan2(I_y, I_x) * (180 / pi) % 180 # TODO\n",
    "\n",
    "    return magnitude, orientation"
   ]
  },
  {
   "cell_type": "code",
   "execution_count": 10,
   "metadata": {},
   "outputs": [],
   "source": [
    "# test 1\n",
    "image = np.arange(16).reshape(4, 4)\n",
    "I_x, I_y = compute_gradients(image)\n",
    "magnitude, orientation = compute_magnitude_and_orientation(I_x, I_y)\n",
    "expected_magnitude = np.load('./arrays_for_testing/magnitude_1.npy')\n",
    "expected_orientation = np.load('./arrays_for_testing/orientation_1.npy')\n",
    "assert np.sum((magnitude - expected_magnitude)**2) < 1e-3\n",
    "assert np.sum((orientation - expected_orientation)**2) < 1e-3\n",
    "\n",
    "# test 2\n",
    "## thetaが180を超えるやつ"
   ]
  },
  {
   "cell_type": "markdown",
   "metadata": {},
   "source": [
    "## 3. Computing gradient histograms"
   ]
  },
  {
   "cell_type": "markdown",
   "metadata": {},
   "source": [
    "- これは載せるか迷う"
   ]
  },
  {
   "cell_type": "code",
   "execution_count": 12,
   "metadata": {},
   "outputs": [],
   "source": [
    "def compute_gradient_histograms(magnitude, orientation, N_theta=9, N_p=5, N_c=3):\n",
    "    \"\"\"\n",
    "    Compute the gradient histograms of the image from the magnitude and orientation.\n",
    "    \n",
    "    Parameters\n",
    "    ----------\n",
    "    magnitude: magnitude of the gradient.\n",
    "    orientation: orientation of the gradient.\n",
    "    \n",
    "    Returns\n",
    "    -------\n",
    "    orientation_histogram: histogram in each pixel.\n",
    "    \"\"\"\n",
    "\n",
    "    sx, sy = magnitude.shape\n",
    "\n",
    "    N_x = int(np.floor(sx // N_p))  # number of cells in x\n",
    "    N_y = int(np.floor(sy // N_p))  # number of cells in y\n",
    "\n",
    "    # compute N_theta integral images\n",
    "    orientation_histogram = np.zeros((N_y, N_x, N_theta))\n",
    "    subsample = np.index_exp[N_p // 2:N_c * N_x:N_c,\n",
    "                             N_p // 2:N_c * N_y:N_c]\n",
    "    for i in range(N_theta):\n",
    "        # create new integral image for this orientation\n",
    "        # isolate N_theta in this range\n",
    "\n",
    "        temp_ori = np.where(orientation < 180.0 / N_theta * (i + 1),\n",
    "                            orientation, -1)\n",
    "        temp_ori = np.where(orientation >= 180.0 / N_theta * i,\n",
    "                            temp_ori, -1)\n",
    "        # select magnitudes for those N_theta\n",
    "        cond2 = temp_ori > -1\n",
    "        temp_mag = np.where(cond2, magnitude, 0)\n",
    "\n",
    "        temp_filt = uniform_filter(temp_mag, size=(N_c, N_c))\n",
    "        orientation_histogram[:, :, i] = temp_filt[subsample]\n",
    "    return orientation_histogram"
   ]
  },
  {
   "cell_type": "code",
   "execution_count": null,
   "metadata": {},
   "outputs": [],
   "source": [
    "# test"
   ]
  },
  {
   "cell_type": "markdown",
   "metadata": {},
   "source": [
    "## 4. Normalizing across blocks and Flattening into a feature vector\n",
    "- 図を載せる"
   ]
  },
  {
   "cell_type": "code",
   "execution_count": 4,
   "metadata": {},
   "outputs": [],
   "source": [
    "def normalize_across_block_and_flatten(orientation_histogram, N_c, N_x, N_y, eps=1e-5):\n",
    "    \"\"\"\n",
    "    Normalize histogram across blocks and flattening it into a\n",
    "    \"\"\"\n",
    "    n_blocksx = (N_x - N_c) + 1\n",
    "    n_blocksy = (N_y - N_c) + 1\n",
    "    normalised_blocks = np.zeros((n_blocksx, n_blocksy,\n",
    "                                  N_c, N_c, N_theta))\n",
    "\n",
    "    for x in range(n_blocksx):\n",
    "        for y in range(n_blocksy):\n",
    "            block = orientation_histogram[y:y + N_c, x:x + N_c, :]\n",
    "            normalised_blocks[y, x, :] = block / sqrt(block.sum()**2 + eps) # TODO\n",
    "    \n",
    "    return normalised_blocks.ravel()"
   ]
  },
  {
   "cell_type": "markdown",
   "metadata": {},
   "source": [
    "## 5. Putting them together"
   ]
  },
  {
   "cell_type": "code",
   "execution_count": 14,
   "metadata": {},
   "outputs": [],
   "source": [
    "def calculate_hog(image, N_theta=9, N_p=5, N_c=3):\n",
    "    # preprocess: change the alingment of input image from (Y, X) to (X, Y)\n",
    "    image = np.transpose(image, (1, 0))\n",
    "    \n",
    "    # 1. computing the gradient image in x and y\n",
    "    I_x, I_y = compute_gradients(image)\n",
    "    \n",
    "    # 2. computing the magnitude and orientation from the gradients\n",
    "    magnitude, orientation = compute_magnitude_and_orientation(I_x, I_y)\n",
    "    \n",
    "    # 3. Computing gradient histograms\n",
    "    orientation_histogram = compute_gradient_histograms(magnitude, orientation,\\\n",
    "                                                       N_theta, N_p, N_c)\n",
    "    \n",
    "    # 4. Normalizing across blocks and Flattening into a feature vector\n",
    "    hog_feature = normalize_across_block_and_flatten(orientation_histogram, N_c, N_x, N_y)\n",
    "    \n",
    "    return hog_feature"
   ]
  },
  {
   "cell_type": "code",
   "execution_count": null,
   "metadata": {},
   "outputs": [],
   "source": []
  }
 ],
 "metadata": {
  "kernelspec": {
   "display_name": "Python 3",
   "language": "python",
   "name": "python3"
  },
  "language_info": {
   "codemirror_mode": {
    "name": "ipython",
    "version": 3
   },
   "file_extension": ".py",
   "mimetype": "text/x-python",
   "name": "python",
   "nbconvert_exporter": "python",
   "pygments_lexer": "ipython3",
   "version": "3.6.5"
  }
 },
 "nbformat": 4,
 "nbformat_minor": 2
}
