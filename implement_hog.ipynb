{
 "cells": [
  {
   "cell_type": "markdown",
   "metadata": {},
   "source": [
    "# Implementation of HOG extractor"
   ]
  },
  {
   "cell_type": "markdown",
   "metadata": {},
   "source": [
    "- In this notebook, you will work on implementing HOG extractor. There are several **blanks** you need to fill in.\n",
    "- Extraction of HOG feature from an image proceeds as follows:\n",
    "    1. computing the gradient image in x and y\n",
    "    2. computing the magnitude and orientation from the gradients\n",
    "    3. computing gradient histograms\n",
    "    4. normalizing across blocks\n",
    "    5. flattening into a feature vector"
   ]
  },
  {
   "cell_type": "code",
   "execution_count": 3,
   "metadata": {},
   "outputs": [],
   "source": [
    "import numpy as np\n",
    "import matplotlib.pyplot as plt\n",
    "from skimage import data, exposure\n",
    "from skimage.color import rgb2gray\n",
    "from scipy import pi\n",
    "from scipy.ndimage import uniform_filter"
   ]
  },
  {
   "cell_type": "markdown",
   "metadata": {},
   "source": [
    "## 1. Computing the gradient image in x and y"
   ]
  },
  {
   "cell_type": "code",
   "execution_count": 19,
   "metadata": {},
   "outputs": [],
   "source": [
    "def compute_gradients(image):\n",
    "    \"\"\"\n",
    "    Compute the gradient of the image vertically and horizontally.\n",
    "    \n",
    "    Parameters\n",
    "    ----------\n",
    "    image : (X, Y) Input image array. \n",
    "    \n",
    "    Returns\n",
    "    -------\n",
    "    I_x, I_y: the gradient on x-axis and y-axis.\n",
    "    \"\"\"\n",
    "    \n",
    "    image = np.atleast_2d(image)\n",
    "    \n",
    "    if image.ndim > 2:\n",
    "        raise ValueError(\"Currently only supports grey-level images\")\\\n",
    "    \n",
    "    if image.dtype.kind == 'u':\n",
    "        # convert uint image to float\n",
    "        # to avoid problems with subtracting unsigned numbers in np.diff()\n",
    "        image = image.astype('float')\n",
    "        \n",
    "    # initialize the parameters.\n",
    "    I_x = np.zeros(image.shape)\n",
    "    I_y = np.zeros(image.shape)\n",
    "    \n",
    "    ########## START CODE HERE ##########\n",
    "    diff_x = np.diff(image, n=1, axis=1)\n",
    "    diff_y = np.diff(image, n=1, axis=0)\n",
    "    I_x[:, 1:-1] = (diff_x[:, :-1] + diff_x[:, 1:]) / 2 # TODO\n",
    "    I_y[1:-1, :] = (diff_y[:-1] + diff_y[1:]) / 2 # TODO\n",
    "    ########## END CODE HERE ##########\n",
    "    \n",
    "    return I_x, I_y"
   ]
  },
  {
   "cell_type": "code",
   "execution_count": 24,
   "metadata": {},
   "outputs": [],
   "source": [
    "# test 1\n",
    "c\n",
    "I_x, I_y = compute_gradients(image)\n",
    "assert (I_x == np.array([[0, 1, 1, 0]]* 4)).all()\n",
    "assert (I_y == np.array([[0, 0, 0, 0], [4, 4, 4, 4], [4, 4, 4, 4], [0, 0, 0, 0]])).all()"
   ]
  },
  {
   "cell_type": "markdown",
   "metadata": {},
   "source": [
    "## 2. computing the magnitude and orientation from the gradients"
   ]
  },
  {
   "cell_type": "markdown",
   "metadata": {},
   "source": [
    "- Now we have the gradients $I_x, I_y$. Let's calculate magnitude $m$ and orientation $\\theta$ from the gradients.\n",
    "- Note that magnitude $m$ and orientation $\\theta$ are calculated as follows:\n",
    "$$\n",
    "m(x,y) = \\sqrt{{I_x(x,y)}^2 + {I_y(x,y)}^2}\\\\\n",
    "\\theta(x,y) = \\tan^{-1}\\frac{I_y(x,y)}{I_x(x,y)} \\times \\frac{180}{\\pi}\n",
    "$$\n",
    "- $\\theta$ is expressed in **degrees**"
   ]
  },
  {
   "cell_type": "code",
   "execution_count": 34,
   "metadata": {},
   "outputs": [],
   "source": [
    "def compute_magnitude_and_orientation(I_x, I_y):\n",
    "    \"\"\"\n",
    "    Compute the magnitude and orientation from the gradients I_x, I_y.\n",
    "    \n",
    "    Parameters\n",
    "    ----------\n",
    "    I_x: the gradient on x-axis\n",
    "    I_y: the gradient on y-axis\n",
    "    \n",
    "    Returns\n",
    "    -------\n",
    "    m: magnitude of the gradient\n",
    "    orientation: orientation of the gradient\n",
    "    \"\"\"\n",
    "    \n",
    "    magnitude = np.sqrt(I_x**2 + I_y**2) # TODO\n",
    "    orientation = np.arctan2(I_y, I_x) * (180 / pi) % 180 # TODO\n",
    "\n",
    "    return magnitude, orientation"
   ]
  },
  {
   "cell_type": "code",
   "execution_count": 38,
   "metadata": {},
   "outputs": [],
   "source": [
    "# test\n",
    "image = np.arange(16).reshape(4, 4)\n",
    "I_x, I_y = compute_gradients(image)\n",
    "magnitude, orientation = compute_magnitude_and_orientation(I_x, I_y)\n",
    "expected_magnitude = np.load('./arrays_for_testing/magnitude.npy')\n",
    "expected_orientation = np.load('./arrays_for_testing/orientation.npy')\n",
    "assert np.sum((magnitude - expected_magnitude)**2) < 1e-3\n",
    "assert np.sum((orientation - expected_orientation)**2) < 1e-3"
   ]
  },
  {
   "cell_type": "markdown",
   "metadata": {},
   "source": [
    "## Computing gradient histograms"
   ]
  },
  {
   "cell_type": "code",
   "execution_count": null,
   "metadata": {},
   "outputs": [],
   "source": []
  }
 ],
 "metadata": {
  "kernelspec": {
   "display_name": "Python 3",
   "language": "python",
   "name": "python3"
  },
  "language_info": {
   "codemirror_mode": {
    "name": "ipython",
    "version": 3
   },
   "file_extension": ".py",
   "mimetype": "text/x-python",
   "name": "python",
   "nbconvert_exporter": "python",
   "pygments_lexer": "ipython3",
   "version": "3.6.5"
  }
 },
 "nbformat": 4,
 "nbformat_minor": 2
}
