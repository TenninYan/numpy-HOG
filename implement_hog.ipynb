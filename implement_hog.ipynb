{
 "cells": [
  {
   "cell_type": "markdown",
   "metadata": {},
   "source": [
    "# Implementation of HOG extractor"
   ]
  },
  {
   "cell_type": "markdown",
   "metadata": {},
   "source": [
    "- In this notebook, you will work on implementing HOG extractor. There are several **blanks** you need to fill in.\n",
    "- Extraction of HOG feature from an image proceeds as follows:\n",
    "    1. computing the gradient image in x and y\n",
    "    2. computing the magnitude and orientation from the gradients\n",
    "    3. computing gradient histograms\n",
    "    4. normalizing across blocks"
   ]
  },
  {
   "cell_type": "code",
   "execution_count": null,
   "metadata": {},
   "outputs": [],
   "source": [
    "import numpy as np\n",
    "import matplotlib.pyplot as plt\n",
    "from skimage import data, exposure\n",
    "from skimage.color import rgb2gray\n",
    "from scipy import pi\n",
    "from scipy.ndimage import uniform_filter"
   ]
  },
  {
   "cell_type": "markdown",
   "metadata": {},
   "source": [
    "## 1. Computing the gradient image in x and y"
   ]
  },
  {
   "cell_type": "code",
   "execution_count": null,
   "metadata": {},
   "outputs": [],
   "source": [
    "def compute_gradients(image):\n",
    "    \"\"\"\n",
    "    Compute the gradient of the image vertically and horizontally.\n",
    "    \n",
    "    Parameters\n",
    "    ----------\n",
    "    image : (X, Y) Input image array. \n",
    "    \n",
    "    Returns\n",
    "    -------\n",
    "    I_x, I_y: the gradient on x-axis and y-axis.\n",
    "    \"\"\"\n",
    "    \n",
    "    image = np.atleast_2d(image)\n",
    "    \n",
    "    if image.ndim > 2:\n",
    "        raise ValueError(\"Currently only supports grey-level images\")\\\n",
    "    \n",
    "    if image.dtype.kind == 'u':\n",
    "        # convert uint image to float\n",
    "        # to avoid problems with subtracting unsigned numbers in np.diff()\n",
    "        image = image.astype('float')\n",
    "        \n",
    "    # initialize the parameters.\n",
    "    I_x = np.zeros(image.shape)\n",
    "    I_y = np.zeros(image.shape)\n",
    "    \n",
    "    ########## START CODE HERE ##########\n",
    "    diff_x = np.diff(image, n=1, axis=1)\n",
    "    diff_y = np.diff(image, n=1, axis=0)\n",
    "    I_x[:, 1:-1] = (diff_x[:, :-1] + diff_x[:, 1:]) / 2 # TODO\n",
    "    I_y[1:-1, :] = (diff_y[:-1] + diff_y[1:]) / 2 # TODO\n",
    "    ########## END CODE HERE ##########\n",
    "    \n",
    "    return I_x, I_y"
   ]
  },
  {
   "cell_type": "code",
   "execution_count": null,
   "metadata": {},
   "outputs": [],
   "source": [
    "def yan_compute_gradients(image):\n",
    "    \"\"\"\n",
    "    Compute the gradient of the image vertically and horizontally.\n",
    "    \n",
    "    Parameters\n",
    "    ----------\n",
    "    image : (X, Y) Input image array. \n",
    "    \n",
    "    Returns\n",
    "    -------\n",
    "    I_x, I_y: the gradient on x-axis and y-axis.\n",
    "    \"\"\"\n",
    "    \n",
    "    image = np.atleast_2d(image)\n",
    "    \n",
    "    if image.ndim > 2:\n",
    "        raise ValueError(\"Currently only supports grey-level images\")\\\n",
    "    \n",
    "    if image.dtype.kind == 'u':\n",
    "        # convert uint image to float\n",
    "        # to avoid problems with subtracting unsigned numbers in np.diff()\n",
    "        image = image.astype('float')\n",
    "        \n",
    "    # initialize the parameters.\n",
    "    diff_x = np.zeros(image.shape)\n",
    "    diff_y = np.zeros(image.shape)\n",
    "    \n",
    "    ########## START CODE HERE ##########\n",
    "    diff_x[:, :-1] = np.diff(image, n=1, axis=1)\n",
    "    diff_y[:-1, :] = np.diff(image, n=1, axis=0)\n",
    "    ########## END CODE HERE ##########\n",
    "    \n",
    "    return diff_x, diff_y"
   ]
  },
  {
   "cell_type": "code",
   "execution_count": null,
   "metadata": {},
   "outputs": [],
   "source": [
    "# test 1\n",
    "image = np.arange(16).reshape(4, 4)\n",
    "I_x, I_y = compute_gradients(image)\n",
    "\n",
    "\n",
    "assert (I_x == np.array([[0, 1, 1, 0]]* 4)).all()\n",
    "assert (I_y == np.array([[0, 0, 0, 0], [4, 4, 4, 4], [4, 4, 4, 4], [0, 0, 0, 0]])).all()"
   ]
  },
  {
   "cell_type": "markdown",
   "metadata": {},
   "source": [
    "## 2. computing the magnitude and orientation from the gradients"
   ]
  },
  {
   "cell_type": "markdown",
   "metadata": {},
   "source": [
    "- Now we have the gradients $I_x, I_y$. Let's calculate magnitude $m$ and orientation $\\theta$ from the gradients.\n",
    "- Note that magnitude $m$ and orientation $\\theta$ are calculated as follows:\n",
    "$$\n",
    "m(x,y) = \\sqrt{{I_x(x,y)}^2 + {I_y(x,y)}^2}\\\\\n",
    "\\theta(x,y) = \\tan^{-1}\\frac{I_y(x,y)}{I_x(x,y)} \\times \\frac{180^\\circ}{\\pi}\\ \\ \\  (0^\\circ \\le \\theta < 180^\\circ)\n",
    "$$\n",
    "- $\\theta$ is expressed in **degrees**"
   ]
  },
  {
   "cell_type": "code",
   "execution_count": null,
   "metadata": {},
   "outputs": [],
   "source": [
    "def compute_magnitude_and_orientation(I_x, I_y):\n",
    "    \"\"\"\n",
    "    Compute the magnitude and orientation from the gradients I_x, I_y.\n",
    "    \n",
    "    Parameters\n",
    "    ----------\n",
    "    I_x: the gradient on x-axis.\n",
    "    I_y: the gradient on y-axis.\n",
    "    \n",
    "    Returns\n",
    "    -------\n",
    "    m: magnitude of the gradient.\n",
    "    orientation: orientation of the gradient.\n",
    "    \"\"\"\n",
    "    \n",
    "    magnitude = np.sqrt(I_x**2 + I_y**2) # TODO\n",
    "    orientation = np.arctan2(I_y, I_x) * (180 / pi) % 180 # TODO\n",
    "\n",
    "    return magnitude, orientation"
   ]
  },
  {
   "cell_type": "code",
   "execution_count": null,
   "metadata": {},
   "outputs": [],
   "source": [
    "# test 1\n",
    "# image = np.arange(16).reshape(4, 4)\n",
    "I_x, I_y = compute_gradients(image)\n",
    "magnitude, orientation = compute_magnitude_and_orientation(I_x, I_y)\n",
    "expected_magnitude = np.load('./arrays_for_testing/magnitude_1.npy')\n",
    "expected_orientation = np.load('./arrays_for_testing/orientation_1.npy')\n",
    "assert np.sum((magnitude - expected_magnitude)**2) < 1e-3\n",
    "assert np.sum((orientation - expected_orientation)**2) < 1e-3\n",
    "\n",
    "# test 2\n",
    "## thetaが180を超えるやつ"
   ]
  },
  {
   "cell_type": "markdown",
   "metadata": {},
   "source": [
    "## 3.Computing gradient histograms"
   ]
  },
  {
   "cell_type": "markdown",
   "metadata": {},
   "source": [
    "6行目： N_p//2 から N_p * n_cells_y まで N_p ごとにサンプリングしていく。\n",
    "line 6: sample from N_p//2 to N_p * n_cells_y at every N_p.\n",
    "\n",
    "9~13行目： 量子化したいthetaの角度内ならそのまま、その他の箇所を -1 にする。\n",
    "line 9~13: if theta is not in range of what we want to quantize make it to -1.\n",
    "\n",
    "16~17行目: 上と同じように量子化したいtheta内にない場合、そこのmagnitudeを0にする。\n",
    "line 16~17: make magnitude to zero of what it's not in range of what we want to quantize.\n",
    "\n",
    "20行目: N_p x N_p で平均をとる。\n",
    "line 20: avarage cells in N_p x N_p.\n",
    "\n",
    "23行目: 6行目の通りにサンプリングを行う。（サンプリングされた値は20行目よりN_p x N_p内のセルの平均値）\n",
    "line 23: sample using line 6. (because of line 20 this will be sampling avarage of N_p x N_p)"
   ]
  },
  {
   "cell_type": "code",
   "execution_count": null,
   "metadata": {},
   "outputs": [],
   "source": [
    "def compute_gradient_histograms(magnitude, orientation, N_theta, N_p):\n",
    "\n",
    "    orientation_histogram = np.zeros((n_cells_x, n_cells_y, N_theta))\n",
    "    \n",
    "#     generate (slice(start_pixel_y, end_pixel_y, N_p), slice(start_pixel_x, end_pixel_x, N_p))\n",
    "    subsample = np.index_exp[N_p//2:N_p * n_cells_y: N_p,\n",
    "                            N_p//2:N_p * n_cells_x: N_p,]\n",
    "\n",
    "    for i in range(N_theta):\n",
    "        temp_ori = np.where(orientation < 180.0 / N_theta * (i + 1),\n",
    "                           orientation, -1)\n",
    "        temp_ori = np.where(orientation >= 180.0 / N_theta * i,\n",
    "                            temp_ori, -1)\n",
    "\n",
    "#         select magnitudes for those N_theta\n",
    "        current_theta = temp_ori > -1\n",
    "        temp_mag = np.where(current_theta, magnitude, 0)\n",
    "\n",
    "#         normalize in N_p * N_p\n",
    "        temp_filt = uniform_filter(temp_mag, size=(N_p, N_p))\n",
    "\n",
    "#         sample cell in the middle\n",
    "        orientation_histogram[:, :, i] = temp_filt[subsample]\n",
    "    return orientation_histogram "
   ]
  },
  {
   "cell_type": "markdown",
   "metadata": {},
   "source": [
    "## 4. Normalizing across blocks   "
   ]
  },
  {
   "cell_type": "markdown",
   "metadata": {},
   "source": [
    "セル内を近傍のセルを使って正規化。\n",
    "教科書 式 2.78を実装。\n",
    "\n",
    "normalize cells using nearby cells.\n",
    "implementation of formula 2.78 in handbook."
   ]
  },
  {
   "cell_type": "code",
   "execution_count": null,
   "metadata": {},
   "outputs": [],
   "source": [
    "def normalize_across_blocks(orientation_histogram):\n",
    "    normalised_blocks = np.zeros((n_blocks_y, n_blocks_x,\n",
    "                                  N_c, N_c, N_theta))\n",
    "\n",
    "    for x in range(n_blocks_x):\n",
    "        for y in range(n_blocks_y):\n",
    "            block = orientation_histogram[y:y + N_c, x:x + N_c, :]\n",
    "            eps = 1e-5\n",
    "    ########## START CODE HERE ##########\n",
    "            normalised_blocks[y, x, :] = block / np.sqrt(block.sum()**2 + eps)\n",
    "    ########## END CODE HERE ##########\n",
    "    return normalised_blocks"
   ]
  },
  {
   "cell_type": "markdown",
   "metadata": {},
   "source": [
    "### run all"
   ]
  },
  {
   "cell_type": "code",
   "execution_count": null,
   "metadata": {},
   "outputs": [],
   "source": [
    "N_theta = 2\n",
    "N_p = 3\n",
    "N_c = 1\n",
    "image = np.arange(36).reshape(6, 6)\n",
    "\n",
    "sy, sx = image.shape\n",
    "n_cells_x = int(np.floor(sx//N_p))\n",
    "n_cells_y = int(np.floor(sy//N_p))\n",
    "\n",
    "n_blocks_x = n_cells_x - N_c + 1\n",
    "n_blocks_y = n_cells_y - N_c + 1"
   ]
  },
  {
   "cell_type": "code",
   "execution_count": null,
   "metadata": {},
   "outputs": [],
   "source": [
    "def main():\n",
    "    \n",
    "    gx, gy = yan_compute_gradients(image)\n",
    "    \n",
    "    magnitude, orientation = compute_magnitude_and_orientation(gx, gy)\n",
    "    \n",
    "    orientation_histogram = compute_gradient_histograms(magnitude, orientation, N_theta, N_p)\n",
    "    \n",
    "    normalised_blocks = normalize_across_blocks(orientation_histogram)\n",
    "\n",
    "main()"
   ]
  }
 ],
 "metadata": {
  "kernelspec": {
   "display_name": "Python 3",
   "language": "python",
   "name": "python3"
  },
  "language_info": {
   "codemirror_mode": {
    "name": "ipython",
    "version": 3
   },
   "file_extension": ".py",
   "mimetype": "text/x-python",
   "name": "python",
   "nbconvert_exporter": "python",
   "pygments_lexer": "ipython3",
   "version": "3.6.4"
  }
 },
 "nbformat": 4,
 "nbformat_minor": 2
}
